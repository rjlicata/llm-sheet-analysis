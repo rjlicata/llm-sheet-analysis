{
 "cells": [
  {
   "cell_type": "markdown",
   "metadata": {},
   "source": [
    "## Test `sheet_analysis` on Housing Data\n",
    "This notebook serves to display the capabilities of the sheet analysis agent."
   ]
  },
  {
   "cell_type": "code",
   "execution_count": 1,
   "metadata": {},
   "outputs": [],
   "source": [
    "import pandas as pd\n",
    "\n",
    "from sheet_analysis.llm.agent import AnalysisAgent"
   ]
  },
  {
   "cell_type": "markdown",
   "metadata": {},
   "source": [
    "### Definitions\n",
    "Define path to file to analyze, the model to use, and the generation temperature. Note: `model_name` and `temperature` have defaults, but we define them here for demonstration."
   ]
  },
  {
   "cell_type": "code",
   "execution_count": 2,
   "metadata": {},
   "outputs": [],
   "source": [
    "filepath = \"../data/housing.csv\"\n",
    "model_name = \"llama3.2\"\n",
    "temperature = 0.0"
   ]
  },
  {
   "cell_type": "markdown",
   "metadata": {},
   "source": [
    "### Preview data\n",
    "This is not necessary for the agent, but we load the data and preview it to get an idea of what it looks like."
   ]
  },
  {
   "cell_type": "code",
   "execution_count": 3,
   "metadata": {},
   "outputs": [
    {
     "data": {
      "text/html": [
       "<div>\n",
       "<style scoped>\n",
       "    .dataframe tbody tr th:only-of-type {\n",
       "        vertical-align: middle;\n",
       "    }\n",
       "\n",
       "    .dataframe tbody tr th {\n",
       "        vertical-align: top;\n",
       "    }\n",
       "\n",
       "    .dataframe thead th {\n",
       "        text-align: right;\n",
       "    }\n",
       "</style>\n",
       "<table border=\"1\" class=\"dataframe\">\n",
       "  <thead>\n",
       "    <tr style=\"text-align: right;\">\n",
       "      <th></th>\n",
       "      <th>Index</th>\n",
       "      <th>Street Address</th>\n",
       "      <th>City</th>\n",
       "      <th>Square Footage</th>\n",
       "      <th>Price</th>\n",
       "    </tr>\n",
       "  </thead>\n",
       "  <tbody>\n",
       "    <tr>\n",
       "      <th>0</th>\n",
       "      <td>1</td>\n",
       "      <td>847 Oakdale Drive</td>\n",
       "      <td>Centennial</td>\n",
       "      <td>1568</td>\n",
       "      <td>460200</td>\n",
       "    </tr>\n",
       "    <tr>\n",
       "      <th>1</th>\n",
       "      <td>2</td>\n",
       "      <td>421 Maple Street</td>\n",
       "      <td>Centennial</td>\n",
       "      <td>4099</td>\n",
       "      <td>1152700</td>\n",
       "    </tr>\n",
       "    <tr>\n",
       "      <th>2</th>\n",
       "      <td>3</td>\n",
       "      <td>189 Pineview Avenue</td>\n",
       "      <td>Centennial</td>\n",
       "      <td>4595</td>\n",
       "      <td>1264300</td>\n",
       "    </tr>\n",
       "    <tr>\n",
       "      <th>3</th>\n",
       "      <td>4</td>\n",
       "      <td>623 Cedar Court</td>\n",
       "      <td>Centennial</td>\n",
       "      <td>2529</td>\n",
       "      <td>718600</td>\n",
       "    </tr>\n",
       "    <tr>\n",
       "      <th>4</th>\n",
       "      <td>5</td>\n",
       "      <td>842 Walnut Road</td>\n",
       "      <td>Centennial</td>\n",
       "      <td>1321</td>\n",
       "      <td>360600</td>\n",
       "    </tr>\n",
       "  </tbody>\n",
       "</table>\n",
       "</div>"
      ],
      "text/plain": [
       "   Index       Street Address        City  Square Footage    Price\n",
       "0      1    847 Oakdale Drive  Centennial            1568   460200\n",
       "1      2     421 Maple Street  Centennial            4099  1152700\n",
       "2      3  189 Pineview Avenue  Centennial            4595  1264300\n",
       "3      4      623 Cedar Court  Centennial            2529   718600\n",
       "4      5      842 Walnut Road  Centennial            1321   360600"
      ]
     },
     "execution_count": 3,
     "metadata": {},
     "output_type": "execute_result"
    }
   ],
   "source": [
    "data = pd.read_csv(filepath)\n",
    "data.head()"
   ]
  },
  {
   "cell_type": "markdown",
   "metadata": {},
   "source": [
    "### Initialize agent"
   ]
  },
  {
   "cell_type": "code",
   "execution_count": 4,
   "metadata": {},
   "outputs": [],
   "source": [
    "agent = AnalysisAgent(\n",
    "    filepath=filepath,\n",
    "    model_name=model_name,\n",
    "    temperature=temperature,\n",
    ")"
   ]
  },
  {
   "cell_type": "markdown",
   "metadata": {},
   "source": [
    "### Ask the agent a basic query\n",
    "We prompt it for an average home price with a filter. The output is correct, and we see the code that was generated."
   ]
  },
  {
   "cell_type": "code",
   "execution_count": 5,
   "metadata": {},
   "outputs": [
    {
     "name": "stdout",
     "output_type": "stream",
     "text": [
      "The average home price in Parker is approximately $788,777.78.\n",
      "\n",
      "Here is the code I generated to get that:\n",
      "\n",
      "```python\n",
      "\n",
      "import pandas as pd\n",
      "import matplotlib\n",
      "\n",
      "def func(data):\n",
      "    # Filter the DataFrame to only include rows where 'City' is 'Parker'\n",
      "    parker_data = data[data['City'] == 'Parker']\n",
      "    \n",
      "    # Calculate and return the average home price\n",
      "    return parker_data['Price'].mean()\n",
      "\n",
      "```\n"
     ]
    }
   ],
   "source": [
    "prompt = \"What is the average home price in Parker?\"\n",
    "response = agent.invoke(prompt)\n",
    "print(response)"
   ]
  },
  {
   "cell_type": "markdown",
   "metadata": {},
   "source": [
    "### Ask the agent to plot something\n",
    "We prompt it to generate a figure that has filtered data (can be multiple subplots or one plot with a legend). If you look at \"notebooks/figures/output.png\", you can see the generated figure. Note: stop running at this cell if you want to view the figure."
   ]
  },
  {
   "cell_type": "code",
   "execution_count": 6,
   "metadata": {},
   "outputs": [
    {
     "name": "stdout",
     "output_type": "stream",
     "text": [
      "I generated a figure for you. It is located at figures/output.png\n",
      "\n",
      "Here is the code I generated to get that:\n",
      "\n",
      "```python\n",
      "\n",
      "import pandas as pd\n",
      "import matplotlib.pyplot as plt\n",
      "\n",
      "def func(data):\n",
      "    # Group the data by city and create a scatter plot of price vs square footage\n",
      "    fig, ax = plt.subplots(figsize=(10, 8))\n",
      "    for city in data['City'].unique():\n",
      "        city_data = data[data['City'] == city]\n",
      "        ax.scatter(city_data['Square Footage'], city_data['Price'], label=city)\n",
      "    \n",
      "    # Set the title and labels\n",
      "    ax.set_title('Home Price vs Square Footage by City')\n",
      "    ax.set_xlabel('Square Footage')\n",
      "    ax.set_ylabel('Price')\n",
      "    \n",
      "    # Add a legend\n",
      "    ax.legend()\n",
      "    \n",
      "    # Save the figure to a file\n",
      "    plt.savefig('figures/output.png')\n",
      "    \n",
      "    # Close the figure before returning\n",
      "    plt.close()\n",
      "    \n",
      "    return None\n",
      "\n",
      "```\n"
     ]
    }
   ],
   "source": [
    "prompt = \"Show a scatter plot of home price vs square feet broken down by town.\"\n",
    "response = agent.invoke(prompt)\n",
    "print(response)"
   ]
  },
  {
   "cell_type": "markdown",
   "metadata": {},
   "source": [
    "### Ask the agent another query.\n",
    "We prompt it for home counts broken down by town, even though the spreadsheet has a \"City\" header. We see that it did not trip up the model. Also, when this was run, the model also generated code to plot a bar chart with these counts even though it wasn't asked."
   ]
  },
  {
   "cell_type": "code",
   "execution_count": 7,
   "metadata": {},
   "outputs": [
    {
     "name": "stdout",
     "output_type": "stream",
     "text": [
      "Here is the answer to your question:\n",
      "\n",
      "There are 9 homes in Parker, 6 homes in Centennial, 6 homes in Lone Tree, 5 homes in Lakewood, and 4 homes in Arvada.\n",
      "\n",
      "I generated a figure for you. It is located at figures/output.png\n",
      "\n",
      "Here is the code I generated to get that:\n",
      "\n",
      "```python\n",
      "\n",
      "import pandas as pd\n",
      "import matplotlib\n",
      "\n",
      "def func(data):\n",
      "    # Group by city and count the number of rows (homes) in each group\n",
      "    result = data['City'].value_counts()\n",
      "    \n",
      "    # Save the figure to a file\n",
      "    fig, ax = matplotlib.pyplot.subplots(figsize=(10, 6))\n",
      "    ax.bar(result.index, result.values)\n",
      "    ax.set_xlabel('Town')\n",
      "    ax.set_ylabel('Number of Homes')\n",
      "    ax.set_title('Number of Homes in Each Town')\n",
      "    matplotlib.pyplot.savefig('figures/output.png')\n",
      "    matplotlib.pyplot.close(fig)\n",
      "    \n",
      "    return result\n",
      "\n",
      "```\n"
     ]
    }
   ],
   "source": [
    "prompt = \"How many homes are in each town?\"\n",
    "response = agent.invoke(prompt)\n",
    "print(response)"
   ]
  }
 ],
 "metadata": {
  "kernelspec": {
   "display_name": "sheets",
   "language": "python",
   "name": "python3"
  },
  "language_info": {
   "codemirror_mode": {
    "name": "ipython",
    "version": 3
   },
   "file_extension": ".py",
   "mimetype": "text/x-python",
   "name": "python",
   "nbconvert_exporter": "python",
   "pygments_lexer": "ipython3",
   "version": "3.12.9"
  }
 },
 "nbformat": 4,
 "nbformat_minor": 2
}
